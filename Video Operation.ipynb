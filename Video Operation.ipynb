{
 "cells": [
  {
   "cell_type": "markdown",
   "metadata": {},
   "source": [
    "# Reading Videos"
   ]
  },
  {
   "cell_type": "code",
   "execution_count": 14,
   "metadata": {
    "scrolled": true
   },
   "outputs": [],
   "source": [
    "import cv2\n"
   ]
  },
  {
   "cell_type": "code",
   "execution_count": 15,
   "metadata": {},
   "outputs": [
    {
     "name": "stdout",
     "output_type": "stream",
     "text": [
      "Capture <VideoCapture 0000022A25D84CD0>\n"
     ]
    }
   ],
   "source": [
    "cap=cv2.VideoCapture(\"image/test2.mp4\") #reading video\n",
    "print(\"Capture\",cap)\n",
    "while True:\n",
    "    ret,frame=cap.read()\n",
    "    frame = cv2.resize(frame,(500,500))\n",
    "    cv2.imshow(\"Frame\",frame)\n",
    "    k = cv2.waitKey(25)\n",
    "    if k == ord(\"q\") & 0xFF:  #64bit mask \n",
    "      break\n",
    "        \n",
    "cap.release()\n",
    "cv2.destroyAllWindows()"
   ]
  },
  {
   "cell_type": "markdown",
   "metadata": {},
   "source": [
    "# Converting into gray"
   ]
  },
  {
   "cell_type": "code",
   "execution_count": 17,
   "metadata": {},
   "outputs": [
    {
     "name": "stdout",
     "output_type": "stream",
     "text": [
      "Capture <VideoCapture 0000022A25BA7330>\n"
     ]
    }
   ],
   "source": [
    "cap=cv2.VideoCapture(\"image/test2.mp4\") #reading video\n",
    "print(\"Capture\",cap)\n",
    "while True:\n",
    "    ret,frame=cap.read()\n",
    "    frame = cv2.resize(frame,(500,500))\n",
    "    gray=cv2.cvtColor(frame,cv2.COLOR_BGR2GRAY)\n",
    "    cv2.imshow(\"Frame\",frame)\n",
    "    cv2.imshow(\"Gray\",gray)\n",
    "    k = cv2.waitKey(25)  #5->playback speed fast,500->speed slow, 25->normal\n",
    "    if k == ord(\"q\") & 0xFF:  #64bit mask \n",
    "      break\n",
    "        \n",
    "cap.release()\n",
    "cv2.destroyAllWindows()"
   ]
  },
  {
   "cell_type": "markdown",
   "metadata": {},
   "source": [
    "# Using WebCam"
   ]
  },
  {
   "cell_type": "code",
   "execution_count": 18,
   "metadata": {},
   "outputs": [
    {
     "name": "stdout",
     "output_type": "stream",
     "text": [
      "Capture <VideoCapture 0000022A25BA7690>\n"
     ]
    }
   ],
   "source": [
    "cap=cv2.VideoCapture(0) #reading video\n",
    "print(\"Capture\",cap)\n",
    "while cap.isOpened():      # till camera is on\n",
    "    ret,frame=cap.read()\n",
    "    if ret == True:         # it means frame is reading\n",
    "        frame = cv2.resize(frame,(500,500))\n",
    "        gray=cv2.cvtColor(frame,cv2.COLOR_BGR2GRAY)\n",
    "        cv2.imshow(\"Frame\",frame)\n",
    "        cv2.imshow(\"Gray\",gray)\n",
    "        if cv2.waitKey(1) & 0xFF == ord(\"q\") :  # 1 means video->dynamic 0->image, \n",
    "            break\n",
    "\n",
    "        \n",
    "cap.release()\n",
    "cv2.destroyAllWindows()"
   ]
  },
  {
   "cell_type": "markdown",
   "metadata": {},
   "source": [
    "# Saving Colorful Image"
   ]
  },
  {
   "cell_type": "code",
   "execution_count": 19,
   "metadata": {},
   "outputs": [],
   "source": [
    "cap=cv2.VideoCapture(0) #reading video from webcam\n",
    "\n",
    "#it is 4 byte code which is use to specify the video codec\n",
    "#Various codec -- \n",
    "#DIVX, XVID, MJPG, X264, WMV1, WMV2\n",
    "fourcc = cv2.VideoWriter_fourcc(*\"XVID\")  # *\"XVID\" \n",
    "#It contain 4 parameter , name, codec,fps,resolution\n",
    "output = cv2.VideoWriter(\"image/output.avi\",fourcc,20.0,(640,480))\n",
    "while cap.isOpened():      # till camera is on\n",
    "    ret,frame=cap.read()\n",
    "    if ret == True:         # it means frame is reading\n",
    "        cv2.imshow(\"Frame\",frame)\n",
    "        output.write(frame)  #it will write the video\n",
    "        if cv2.waitKey(1) & 0xFF == ord(\"q\") :  # 1 means video->dynamic 0->image, \n",
    "            break\n",
    "\n",
    "        \n",
    "cap.release()\n",
    "output.release()\n",
    "cv2.destroyAllWindows()"
   ]
  },
  {
   "cell_type": "markdown",
   "metadata": {},
   "source": [
    "# Saving Gray video"
   ]
  },
  {
   "cell_type": "code",
   "execution_count": 20,
   "metadata": {},
   "outputs": [],
   "source": [
    "cap=cv2.VideoCapture(0) #reading video from webcam\n",
    "\n",
    "#it is 4 byte code which is use to specify the video codec\n",
    "#Various codec -- \n",
    "#DIVX, XVID, MJPG, X264, WMV1, WMV2\n",
    "fourcc = cv2.VideoWriter_fourcc(*\"XVID\")  # *\"XVID\" \n",
    "#It contain 4 parameter , name, codec,fps,resolution\n",
    "output = cv2.VideoWriter(\"image/output_gray.avi\",fourcc,20.0,(640,480),0) \n",
    "# we will pass 0 to tell it's gray\n",
    "while cap.isOpened():      # till camera is on\n",
    "    ret,frame=cap.read()\n",
    "    if ret == True:         # it means frame is reading\n",
    "        gray=cv2.cvtColor(frame,cv2.COLOR_BGR2GRAY)\n",
    "        cv2.imshow(\"Frame\",gray)\n",
    "        output.write(gray)  #it will write the video\n",
    "        if cv2.waitKey(1) & 0xFF == ord(\"q\") :  # 1 means video->dynamic 0->image, \n",
    "            break\n",
    "\n",
    "        \n",
    "cap.release()\n",
    "output.release()\n",
    "cv2.destroyAllWindows()"
   ]
  },
  {
   "cell_type": "code",
   "execution_count": null,
   "metadata": {},
   "outputs": [],
   "source": []
  }
 ],
 "metadata": {
  "kernelspec": {
   "display_name": "Python 3",
   "language": "python",
   "name": "python3"
  },
  "language_info": {
   "codemirror_mode": {
    "name": "ipython",
    "version": 3
   },
   "file_extension": ".py",
   "mimetype": "text/x-python",
   "name": "python",
   "nbconvert_exporter": "python",
   "pygments_lexer": "ipython3",
   "version": "3.8.5"
  },
  "toc": {
   "base_numbering": 1,
   "nav_menu": {},
   "number_sections": true,
   "sideBar": true,
   "skip_h1_title": false,
   "title_cell": "Table of Contents",
   "title_sidebar": "Contents",
   "toc_cell": false,
   "toc_position": {},
   "toc_section_display": true,
   "toc_window_display": false
  }
 },
 "nbformat": 4,
 "nbformat_minor": 4
}
