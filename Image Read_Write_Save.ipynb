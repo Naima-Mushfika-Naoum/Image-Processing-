{
 "cells": [
  {
   "cell_type": "markdown",
   "metadata": {},
   "source": [
    "# Image Read & Show"
   ]
  },
  {
   "cell_type": "code",
   "execution_count": 4,
   "metadata": {},
   "outputs": [],
   "source": [
    "import cv2 as cv\n",
    "\n",
    "img = cv.imread(\"image/avengers.jpg\",1) # colourful image by default 1"
   ]
  },
  {
   "cell_type": "code",
   "execution_count": 5,
   "metadata": {
    "scrolled": true
   },
   "outputs": [
    {
     "name": "stdout",
     "output_type": "stream",
     "text": [
      "[[[188 188 188]\n",
      "  [194 194 194]\n",
      "  [193 193 193]\n",
      "  ...\n",
      "  [190 186 191]\n",
      "  [192 188 193]\n",
      "  [192 188 193]]\n",
      "\n",
      " [[190 190 190]\n",
      "  [146 146 146]\n",
      "  [102 102 102]\n",
      "  ...\n",
      "  [114 110 115]\n",
      "  [153 149 154]\n",
      "  [195 191 196]]\n",
      "\n",
      " [[188 188 188]\n",
      "  [100 100 100]\n",
      "  [ 21  21  21]\n",
      "  ...\n",
      "  [ 30  26  31]\n",
      "  [103  99 104]\n",
      "  [187 183 188]]\n",
      "\n",
      " ...\n",
      "\n",
      " [[178 176 206]\n",
      "  [130 135 184]\n",
      "  [ 79 103 191]\n",
      "  ...\n",
      "  [105 145 204]\n",
      "  [149 166 199]\n",
      "  [181 188 205]]\n",
      "\n",
      " [[189 188 214]\n",
      "  [149 155 196]\n",
      "  [115 134 209]\n",
      "  ...\n",
      "  [125 158 208]\n",
      "  [159 173 201]\n",
      "  [185 189 207]]\n",
      "\n",
      " [[180 186 209]\n",
      "  [174 183 216]\n",
      "  [164 177 233]\n",
      "  ...\n",
      "  [162 184 220]\n",
      "  [173 187 210]\n",
      "  [177 187 205]]]\n"
     ]
    }
   ],
   "source": [
    "print(img)"
   ]
  },
  {
   "cell_type": "code",
   "execution_count": 6,
   "metadata": {
    "scrolled": true
   },
   "outputs": [],
   "source": [
    "img1=cv.resize(img,(1280,700))\n",
    "cv.imshow(\"Original Image\",img1)\n",
    "cv.waitKey()   #control visualization\n",
    "cv.destroyAllWindows()"
   ]
  },
  {
   "cell_type": "code",
   "execution_count": 7,
   "metadata": {
    "scrolled": false
   },
   "outputs": [
    {
     "name": "stdout",
     "output_type": "stream",
     "text": [
      "[[[179 179 179]\n",
      "  [144 144 144]\n",
      "  [142 142 142]\n",
      "  ...\n",
      "  [146 142 147]\n",
      "  [152 148 153]\n",
      "  [182 178 183]]\n",
      "\n",
      " [[144 144 144]\n",
      "  [ 17  17  17]\n",
      "  [ 20  20  20]\n",
      "  ...\n",
      "  [ 34  30  35]\n",
      "  [ 31  27  32]\n",
      "  [153 149 153]]\n",
      "\n",
      " [[143 143 143]\n",
      "  [ 20  20  20]\n",
      "  [ 21  21  21]\n",
      "  ...\n",
      "  [ 33  29  34]\n",
      "  [ 33  29  34]\n",
      "  [147 143 148]]\n",
      "\n",
      " ...\n",
      "\n",
      " [[136 152 208]\n",
      "  [ 51  93 206]\n",
      "  [ 56 110 215]\n",
      "  ...\n",
      "  [ 65 129 221]\n",
      "  [ 75 131 213]\n",
      "  [149 170 210]]\n",
      "\n",
      " [[154 159 201]\n",
      "  [ 68 100 198]\n",
      "  [ 67 114 204]\n",
      "  ...\n",
      "  [ 76 132 211]\n",
      "  [ 89 137 208]\n",
      "  [162 176 204]]\n",
      "\n",
      " [[173 178 209]\n",
      "  [134 155 226]\n",
      "  [128 162 229]\n",
      "  ...\n",
      "  [129 168 226]\n",
      "  [137 169 218]\n",
      "  [173 184 205]]]\n"
     ]
    }
   ],
   "source": [
    "print(img1)"
   ]
  },
  {
   "cell_type": "code",
   "execution_count": 8,
   "metadata": {},
   "outputs": [],
   "source": [
    "img = cv.imread(\"image/avengers.jpg\",0)    # for grayscale mode '0'\n",
    "img2=cv.resize(img,(1280,700))\n",
    "cv.imshow(\"GrayScale/Single Channel Image\",img2)\n",
    "cv.waitKey(2000)  # stays for 2 ms\n",
    "cv.destroyAllWindows()"
   ]
  },
  {
   "cell_type": "code",
   "execution_count": 9,
   "metadata": {},
   "outputs": [
    {
     "name": "stdout",
     "output_type": "stream",
     "text": [
      "Image in Grayscale\n",
      " [[179 144 142 ... 144 150 180]\n",
      " [144  17  20 ...  32  29 150]\n",
      " [143  20  21 ...  31  31 145]\n",
      " ...\n",
      " [167 122 135 ... 149 149 180]\n",
      " [171 126 136 ... 149 153 183]\n",
      " [186 174 178 ... 181 180 189]]\n"
     ]
    }
   ],
   "source": [
    "print(\"Image in Grayscale\\n\",img2)"
   ]
  },
  {
   "cell_type": "code",
   "execution_count": 10,
   "metadata": {},
   "outputs": [],
   "source": [
    "img = cv.imread(\"image/avengers.jpg\",-1)    # Unchanged Image and it increases saturation of color:AlPHA channel is more \n",
    "img3=cv.resize(img,(1280,700))\n",
    "cv.imshow(\"Unchaged Image\",img3)\n",
    "cv.waitKey(2000)  # stays for 2 ms\n",
    "cv.destroyAllWindows() # All the loaded image are saved in IDE memory. If we want to free all the used memory."
   ]
  },
  {
   "cell_type": "markdown",
   "metadata": {},
   "source": [
    "# Saving Images"
   ]
  },
  {
   "cell_type": "code",
   "execution_count": 12,
   "metadata": {},
   "outputs": [],
   "source": [
    "img1 = cv.imread(\"image/thor.jpg\",0) #convert image into grayscale\n",
    "img1 = cv.resize(img1,(560,700))\n",
    "img1 = cv.flip(img1,-1)#it accept 3 parameters 0,-1,1\n",
    "cv.imshow(\"converted image==\",img1)\n",
    "k = cv.waitKey(0) & 0xFF\n",
    "if k == ord(\"q\"):\n",
    "    cv.destroyAllWindows()\n",
    "    \n",
    "elif k == ord(\"s\"):\n",
    "    cv.imwrite(\"image\\ouput.png\",img1)  #it accept name of image and data\n",
    "    cv.destroyAllWindows()"
   ]
  },
  {
   "cell_type": "code",
   "execution_count": null,
   "metadata": {},
   "outputs": [],
   "source": []
  }
 ],
 "metadata": {
  "kernelspec": {
   "display_name": "Python 3",
   "language": "python",
   "name": "python3"
  },
  "language_info": {
   "codemirror_mode": {
    "name": "ipython",
    "version": 3
   },
   "file_extension": ".py",
   "mimetype": "text/x-python",
   "name": "python",
   "nbconvert_exporter": "python",
   "pygments_lexer": "ipython3",
   "version": "3.8.5"
  },
  "toc": {
   "base_numbering": 1,
   "nav_menu": {},
   "number_sections": true,
   "sideBar": true,
   "skip_h1_title": false,
   "title_cell": "Table of Contents",
   "title_sidebar": "Contents",
   "toc_cell": false,
   "toc_position": {},
   "toc_section_display": true,
   "toc_window_display": false
  }
 },
 "nbformat": 4,
 "nbformat_minor": 4
}
