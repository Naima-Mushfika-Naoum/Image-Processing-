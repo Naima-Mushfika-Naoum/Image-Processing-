{
 "cells": [
  {
   "cell_type": "code",
   "execution_count": 2,
   "metadata": {
    "scrolled": true
   },
   "outputs": [],
   "source": [
    "import cv2\n",
    "import numpy as np"
   ]
  },
  {
   "cell_type": "code",
   "execution_count": 17,
   "metadata": {},
   "outputs": [],
   "source": [
    "# blank image\n",
    "\n",
    "img = np.zeros((300,512,3),np.uint8)\n",
    "cv2.namedWindow(\"Color Picker\")\n",
    "\n",
    "#empty function , if tracbar isn't doing anything it will access it and pass it\n",
    "def cross(x):\n",
    "    pass\n",
    "\n",
    "#Creating switch for on and of the trackbars\n",
    "switch = '0:OFF,1:ON'\n",
    "cv2.createTrackbar(switch, 'Color Picker',0,1,cross)\n",
    "\n",
    "#Creating TrackBars For Adjusting Colors\n",
    "cv2.createTrackbar(\"R\",\"Color Picker\",0,255,cross)\n",
    "cv2.createTrackbar(\"G\",\"Color Picker\",0,255,cross)\n",
    "cv2.createTrackbar(\"B\",\"Color Picker\",0,255,cross)\n",
    "\n",
    "#Now creating logic to handle trackbars\n",
    "while True:\n",
    "    cv2.imshow(\"Color Picker\",img)\n",
    "    k = cv2.waitKey(1) & 0xFF\n",
    "    if k==27: #for exit\n",
    "        break\n",
    "    \n",
    "    #set current positions of four bars\n",
    "    s = cv2.getTrackbarPos(switch,\"Color Picker\") #switch\n",
    "    r = cv2.getTrackbarPos(\"R\",\"Color Picker\")\n",
    "    g = cv2.getTrackbarPos(\"G\",\"Color Picker\")\n",
    "    b = cv2.getTrackbarPos(\"B\",\"Color Picker\")\n",
    "    \n",
    "    if s==0:\n",
    "        img[:] = 0\n",
    "    else:\n",
    "        img[:] = [r,g,b] #here openCV support BGR\n",
    "cv2.destroyAllWindows()\n",
    "    \n",
    "\n",
    "\n"
   ]
  },
  {
   "cell_type": "code",
   "execution_count": null,
   "metadata": {},
   "outputs": [],
   "source": []
  }
 ],
 "metadata": {
  "kernelspec": {
   "display_name": "Python 3",
   "language": "python",
   "name": "python3"
  },
  "language_info": {
   "codemirror_mode": {
    "name": "ipython",
    "version": 3
   },
   "file_extension": ".py",
   "mimetype": "text/x-python",
   "name": "python",
   "nbconvert_exporter": "python",
   "pygments_lexer": "ipython3",
   "version": "3.8.5"
  },
  "toc": {
   "base_numbering": 1,
   "nav_menu": {},
   "number_sections": true,
   "sideBar": true,
   "skip_h1_title": false,
   "title_cell": "Table of Contents",
   "title_sidebar": "Contents",
   "toc_cell": false,
   "toc_position": {},
   "toc_section_display": true,
   "toc_window_display": false
  }
 },
 "nbformat": 4,
 "nbformat_minor": 4
}
