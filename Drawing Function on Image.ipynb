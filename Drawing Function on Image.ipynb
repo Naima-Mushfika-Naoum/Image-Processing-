{
 "cells": [
  {
   "cell_type": "markdown",
   "metadata": {},
   "source": [
    "# Importing Library"
   ]
  },
  {
   "cell_type": "code",
   "execution_count": 1,
   "metadata": {},
   "outputs": [],
   "source": [
    "import numpy as np\n",
    "import cv2"
   ]
  },
  {
   "cell_type": "markdown",
   "metadata": {},
   "source": [
    "# Drawing Line "
   ]
  },
  {
   "cell_type": "code",
   "execution_count": 10,
   "metadata": {},
   "outputs": [],
   "source": [
    "img = cv2.imread(\"image/thor.jpg\")\n",
    "img = cv2.resize(img,(600,700))\n",
    "\n",
    "#Here line accept 5 parameter (img,starting,ending,color,thickness)\n",
    "\n",
    "img = cv2.line(img, (0,0), (200,200), (5, 92, 53), 4)\n",
    "#color format BGR, choose color from google (color picker) \n",
    "\n",
    "cv2.imshow(\"Image\",img)\n",
    "cv2.waitKey(0)\n",
    "cv2.destroyAllWindows()"
   ]
  },
  {
   "cell_type": "markdown",
   "metadata": {},
   "source": [
    "# Drwaing Arrow"
   ]
  },
  {
   "cell_type": "code",
   "execution_count": 21,
   "metadata": {},
   "outputs": [],
   "source": [
    "img = cv2.imread(\"image/thor.jpg\")\n",
    "img = cv2.resize(img,(600,700))\n",
    "\n",
    "#arrowed line accept also accpet 5 parameter  (img,starting,ending,color,thickness) \n",
    "\n",
    "img = cv2.arrowedLine(img, (0,125), (255,255), (255, 0, 125), 10)\n",
    "cv2.imshow(\"Image\",img)\n",
    "cv2.waitKey(0)\n",
    "cv2.destroyAllWindows()"
   ]
  },
  {
   "cell_type": "markdown",
   "metadata": {},
   "source": [
    "# Drawing Rectangle"
   ]
  },
  {
   "cell_type": "code",
   "execution_count": 22,
   "metadata": {},
   "outputs": [],
   "source": [
    "img = cv2.imread(\"image/thor.jpg\")\n",
    "img = cv2.resize(img,(600,700))\n",
    "\n",
    "#Rectangle - accept parameter(img,starting_coordinate,ending_coordinate,colorcode ,thickness)\n",
    "\n",
    "img = cv2.rectangle(img, (384, 10), (510, 128), (128, 0, 255), 8) # positive->outline\n",
    "\n",
    "img = cv2.rectangle(img, (84, 8), (300, 100), (228, 10, 25), -1) # negative will be filled\n",
    "\n",
    "cv2.imshow(\"Image\",img)\n",
    "cv2.waitKey(0)\n",
    "cv2.destroyAllWindows()"
   ]
  },
  {
   "cell_type": "markdown",
   "metadata": {},
   "source": [
    "# Drawing Circle"
   ]
  },
  {
   "cell_type": "code",
   "execution_count": 24,
   "metadata": {},
   "outputs": [],
   "source": [
    "img = cv2.imread(\"image/thor.jpg\")\n",
    "img = cv2.resize(img,(600,700))\n",
    "#circle(img,starting_coordinate,radius,color,thickness)\n",
    "\n",
    "img = cv2.circle(img, (447, 125), 63, (214, 255, 0), -5) # filled circle\n",
    "img = cv2.circle(img, (147, 225), 20, (110, 300, 0), 5) # outline circle\n",
    "\n",
    "\n",
    "cv2.imshow(\"Image\",img)\n",
    "cv2.waitKey(0)\n",
    "cv2.destroyAllWindows()"
   ]
  },
  {
   "cell_type": "markdown",
   "metadata": {},
   "source": [
    "# Writing Text"
   ]
  },
  {
   "cell_type": "code",
   "execution_count": 25,
   "metadata": {},
   "outputs": [],
   "source": [
    "img = cv2.imread(\"image/thor.jpg\")\n",
    "img = cv2.resize(img,(600,700))\n",
    "\n",
    "font = cv2.FONT_ITALIC\n",
    "#puttext(img,text,start_co,font,fontsize,color,thickness,linetype)\n",
    "img = cv2.putText(img, 'THOR', (20, 500), font, 2, \n",
    "                  (10, 125, 255), 5,cv2.LINE_AA)\n",
    "\n",
    "cv2.imshow(\"Image\",img)\n",
    "cv2.waitKey(0)\n",
    "cv2.destroyAllWindows()"
   ]
  },
  {
   "cell_type": "markdown",
   "metadata": {},
   "source": [
    "# Drawing ellipse"
   ]
  },
  {
   "cell_type": "code",
   "execution_count": 27,
   "metadata": {},
   "outputs": [],
   "source": [
    "img = cv2.imread(\"image/thor.jpg\")\n",
    "img = cv2.resize(img,(500,700))\n",
    "\n",
    "#ellipse(img,start_cor,(length,height),rotation point (0,0),angle(270),color(155),thickness)\n",
    "img = cv2.ellipse(img,(400,600),(100,50),0,0,270,155,5)\n",
    "\n",
    "cv2.imshow(\"Image\",img)\n",
    "cv2.waitKey(0)\n",
    "cv2.destroyAllWindows()"
   ]
  },
  {
   "cell_type": "markdown",
   "metadata": {},
   "source": [
    "# Creating Blank Image for Black Screen"
   ]
  },
  {
   "cell_type": "code",
   "execution_count": 32,
   "metadata": {},
   "outputs": [],
   "source": [
    "img = np.zeros([512,512,3], np.uint8)*255 #create window of an black screen\n",
    "\n",
    "#Here line accept 5 parameter (img,starting,ending,color,thickness)\n",
    "img = cv2.line(img, (0,0), (200,200), (154, 92, 424), 8) #color format BGR \n",
    "\n",
    "#arrowed line accept also accpet 5 parameter  (img,starting,ending,color,thickness) \n",
    "img = cv2.arrowedLine(img, (0,125), (255,255), (255, 0, 125), 10)\n",
    "\n",
    "#Rectangle - accept parameter(img,start_co,end_co,colot ,thickness)\n",
    "img = cv2.rectangle(img, (384, 10), (510, 128), (128, 0, 255), 8)\n",
    "\n",
    "#circle - accept(img,star_co,radius,color,thickness)\n",
    "img = cv2.circle(img, (447, 125), 63, (214, 255, 0), -5)\n",
    "\n",
    "font = cv2.FONT_ITALIC\n",
    "#puttext -accept(img,text,start_co,font,fontsize,color,thickness,linetype)\n",
    "img = cv2.putText(img, 'THOR', (20, 500), font, 4, (0, 125, 255), 10,cv2.LINE_AA)\n",
    "\n",
    "#ellipse-accept(img,start_cor,(length,height),color,thickness)\n",
    "img = cv2.ellipse(img,(400,600),(100,50),0,0,180,155,5)\n",
    "cv2.imshow(\"Image\",img)\n",
    "cv2.waitKey(0)\n",
    "cv2.destroyAllWindows()"
   ]
  },
  {
   "cell_type": "markdown",
   "metadata": {},
   "source": [
    "# Creating Blank image for White Screen"
   ]
  },
  {
   "cell_type": "code",
   "execution_count": 34,
   "metadata": {},
   "outputs": [],
   "source": [
    "img = np.ones([512,512,3], np.uint8)*255 #create window of an white screen(width,height,channel)\n",
    "\n",
    "#Here line accept 5 parameter (img,starting,ending,color,thickness)\n",
    "img = cv2.line(img, (0,0), (200,200), (154, 92, 424), 8) #color format BGR \n",
    "\n",
    "#arrowed line accept also accpet 5 parameter  (img,starting,ending,color,thickness) \n",
    "img = cv2.arrowedLine(img, (0,125), (255,255), (255, 0, 125), 10)\n",
    "\n",
    "#Rectangle - accept parameter(img,start_co,end_co,colot ,thickness)\n",
    "img = cv2.rectangle(img, (384, 10), (510, 128), (128, 0, 255), 8)\n",
    "\n",
    "#circle - accept(img,star_co,radius,color,thickness)\n",
    "img = cv2.circle(img, (447, 125), 63, (214, 255, 0), -5)\n",
    "\n",
    "font = cv2.FONT_ITALIC\n",
    "#puttext -accept(img,text,start_co,font,fontsize,color,thickness,linetype)\n",
    "img = cv2.putText(img, 'THOR', (20, 500), font, 4, (0, 125, 255), 10,cv2.LINE_AA)\n",
    "\n",
    "#ellipse-accept(img,start_cor,(length,height),color,thickness)\n",
    "img = cv2.ellipse(img,(400,600),(100,50),0,0,180,155,5)\n",
    "cv2.imshow(\"Image\",img)\n",
    "cv2.waitKey(0)\n",
    "cv2.destroyAllWindows()"
   ]
  },
  {
   "cell_type": "code",
   "execution_count": null,
   "metadata": {},
   "outputs": [],
   "source": []
  }
 ],
 "metadata": {
  "kernelspec": {
   "display_name": "Python 3",
   "language": "python",
   "name": "python3"
  },
  "language_info": {
   "codemirror_mode": {
    "name": "ipython",
    "version": 3
   },
   "file_extension": ".py",
   "mimetype": "text/x-python",
   "name": "python",
   "nbconvert_exporter": "python",
   "pygments_lexer": "ipython3",
   "version": "3.8.5"
  },
  "toc": {
   "base_numbering": 1,
   "nav_menu": {},
   "number_sections": true,
   "sideBar": true,
   "skip_h1_title": false,
   "title_cell": "Table of Contents",
   "title_sidebar": "Contents",
   "toc_cell": false,
   "toc_position": {},
   "toc_section_display": true,
   "toc_window_display": false
  }
 },
 "nbformat": 4,
 "nbformat_minor": 4
}
