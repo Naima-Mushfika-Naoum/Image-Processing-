{
 "cells": [
  {
   "cell_type": "code",
   "execution_count": 1,
   "metadata": {},
   "outputs": [],
   "source": [
    "import cv2\n",
    "import datetime"
   ]
  },
  {
   "cell_type": "code",
   "execution_count": 4,
   "metadata": {},
   "outputs": [
    {
     "name": "stdout",
     "output_type": "stream",
     "text": [
      "Capture <VideoCapture 00000207B8184B50>\n",
      "for width=== 1280.0\n",
      "for height== 720.0\n",
      "_________________________________________\n",
      "Width==== 1280.0\n",
      "Height=== 720.0\n"
     ]
    }
   ],
   "source": [
    "#cap=cv2.VideoCapture(0) #Openning Webcam\n",
    "cap=cv2.VideoCapture(\"image/test2.mp4\") #reading video\n",
    "print(\"Capture\",cap)\n",
    "\n",
    "# showing video width and height\n",
    "print(\"for width===\",cap.get(cv2.CAP_PROP_FRAME_WIDTH))\n",
    "print(\"for height==\",cap.get(cv2.CAP_PROP_FRAME_HEIGHT))\n",
    "\n",
    "# Alternative way of showing \n",
    "print(\"_________________________________________\")\n",
    "print(\"Width====\",cap.get(3)) # 3 for width\n",
    "print(\"Height===\",cap.get(4)) # 4 for height\n",
    "while(cap.isOpened()):\n",
    "    ret, frame = cap.read()\n",
    "    if ret == True:\n",
    "        font = cv2.FONT_HERSHEY_COMPLEX_SMALL  # Selecting font\n",
    "        text = ' Height: ' + str(cap.get(4))+' Width: '+ str(cap.get(3))\n",
    "        # taking video width and height and send as string \n",
    "        date_data = \"Date: \"+str(datetime.datetime.now())\n",
    "        #puttext -accept(frame,text,start_co,font,fontsize,color,thickness,linetype)\n",
    "        frame = cv2.putText(frame, text, (10, 20), font, 1,\n",
    "                           (0, 125, 0), 1, cv2.LINE_AA)\n",
    "        \n",
    "        date_data=\"Date: \" + str(datetime.datetime.now())  #it will pass recent date & time\n",
    "        frame = cv2.putText(frame, date_data, (20, 50), font, 1,\n",
    "                           (100, 5, 255), 1, cv2.LINE_AA)\n",
    "        \n",
    "       #Rectangle - accept parameter(img,start_co,end_co,colot ,thickness)\n",
    "        cv2.rectangle(frame, (384, 10), (510, 128), (128, 0, 255), 8)\n",
    "        #ellipse-accept(img,start_cor,(length,height),color,thickness)\n",
    "        cv2.ellipse(frame,(400,600),(100,50),0,0,180,155,5)\n",
    "        cv2.imshow('frame', frame)\n",
    "\n",
    "        if cv2.waitKey(1) & 0xFF == ord(\"q\") :  # 1 means video->dynamic 0->image, \n",
    "            break\n",
    "    else:\n",
    "        break\n",
    "        \n",
    "cap.release()\n",
    "cv2.destroyAllWindows()"
   ]
  },
  {
   "cell_type": "code",
   "execution_count": null,
   "metadata": {},
   "outputs": [],
   "source": []
  }
 ],
 "metadata": {
  "kernelspec": {
   "display_name": "Python 3",
   "language": "python",
   "name": "python3"
  },
  "language_info": {
   "codemirror_mode": {
    "name": "ipython",
    "version": 3
   },
   "file_extension": ".py",
   "mimetype": "text/x-python",
   "name": "python",
   "nbconvert_exporter": "python",
   "pygments_lexer": "ipython3",
   "version": "3.8.5"
  },
  "toc": {
   "base_numbering": 1,
   "nav_menu": {},
   "number_sections": true,
   "sideBar": true,
   "skip_h1_title": false,
   "title_cell": "Table of Contents",
   "title_sidebar": "Contents",
   "toc_cell": false,
   "toc_position": {},
   "toc_section_display": true,
   "toc_window_display": false
  }
 },
 "nbformat": 4,
 "nbformat_minor": 4
}
